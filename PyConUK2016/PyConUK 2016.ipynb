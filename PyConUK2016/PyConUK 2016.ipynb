{
 "cells": [
  {
   "cell_type": "markdown",
   "metadata": {},
   "source": [
    "# Basic Queueing System"
   ]
  },
  {
   "cell_type": "code",
   "execution_count": 1,
   "metadata": {
    "collapsed": true
   },
   "outputs": [],
   "source": [
    "%matplotlib inline\n",
    "import ciw\n",
    "import matplotlib.pyplot as plt\n",
    "import numpy as np\n",
    "from collections import Counter"
   ]
  },
  {
   "cell_type": "code",
   "execution_count": 2,
   "metadata": {
    "collapsed": true
   },
   "outputs": [],
   "source": [
    "params = {\n",
    "    'Arrival_distributions': {'Class 0': [['Exponential', 5.0], ['Exponential', 3.4]],\n",
    "                              'Class 1': [['Exponential', 4.1], ['Exponential', 1.2]]},\n",
    "    'Service_distributions': {'Class 0': [['Exponential', 7.0], ['Exponential', 6.2]],\n",
    "                              'Class 1': [['Exponential', 2.1], ['Exponential', 4.5]]},\n",
    "    'Transition_matrices': {'Class 0': [[0.0, 0.5],\n",
    "                                        [0.5, 0.0]],\n",
    "                            'Class 1': [[0.2, 0.2],\n",
    "                                        [0.2, 0.2]]},\n",
    "    'Number_of_servers': [5, 2]\n",
    "}"
   ]
  },
  {
   "cell_type": "code",
   "execution_count": 3,
   "metadata": {
    "collapsed": false
   },
   "outputs": [],
   "source": [
    "ciw.seed(1)\n",
    "N = ciw.create_network(params)\n",
    "Q = ciw.Simulation(N)\n",
    "Q.simulate_until_max_time(100)"
   ]
  },
  {
   "cell_type": "code",
   "execution_count": 4,
   "metadata": {
    "collapsed": true
   },
   "outputs": [],
   "source": [
    "recs = Q.get_all_records()"
   ]
  },
  {
   "cell_type": "code",
   "execution_count": 5,
   "metadata": {
    "collapsed": false
   },
   "outputs": [
    {
     "name": "stdout",
     "output_type": "stream",
     "text": [
      "0.635494910344\n"
     ]
    },
    {
     "data": {
      "image/png": "[encoded data removed]",
      "text/plain": [
       "<matplotlib.figure.Figure at 0x10cdcf7f0>"
      ]
     },
     "metadata": {},
     "output_type": "display_data"
    }
   ],
   "source": [
    "waits = [r.waiting_time for r in recs]\n",
    "print(np.mean(waits))\n",
    "plt.hist(waits);"
   ]
  },
  {
   "cell_type": "code",
   "execution_count": 6,
   "metadata": {
    "collapsed": false
   },
   "outputs": [
    {
     "name": "stdout",
     "output_type": "stream",
     "text": [
      "1.21078909814\n"
     ]
    },
    {
     "data": {
      "image/png": "[encoded data removed]",
      "text/plain": [
       "<matplotlib.figure.Figure at 0x10cffa128>"
      ]
     },
     "metadata": {},
     "output_type": "display_data"
    }
   ],
   "source": [
    "waits = [r.waiting_time for r in recs if r.node==2]\n",
    "print(np.mean(waits))\n",
    "plt.hist(waits);"
   ]
  },
  {
   "cell_type": "markdown",
   "metadata": {},
   "source": [
    "#  \n",
    "#  \n",
    "#  \n",
    "#  \n",
    "#  \n",
    "#  \n",
    "# Service Distributions"
   ]
  },
  {
   "cell_type": "code",
   "execution_count": 7,
   "metadata": {
    "collapsed": true
   },
   "outputs": [],
   "source": [
    "params = {\n",
    "    'Arrival_distributions': [['Exponential', 15.0]],\n",
    "    'Service_distributions': [['Exponential', 10.0]],\n",
    "    'Transition_matrices': [[0.0]],\n",
    "    'Number_of_servers': [1]\n",
    "}"
   ]
  },
  {
   "cell_type": "code",
   "execution_count": 8,
   "metadata": {
    "collapsed": true
   },
   "outputs": [],
   "source": [
    "ciw.seed(1)\n",
    "N = ciw.create_network(params)\n",
    "Q = ciw.Simulation(N)\n",
    "Q.simulate_until_max_time(200)\n",
    "recs = Q.get_all_records()\n",
    "service_times = [r.service_time for r in recs]"
   ]
  },
  {
   "cell_type": "code",
   "execution_count": 9,
   "metadata": {
    "collapsed": false
   },
   "outputs": [
    {
     "data": {
      "image/png": "[encoded data removed]",
      "text/plain": [
       "<matplotlib.figure.Figure at 0x10ccd4fd0>"
      ]
     },
     "metadata": {},
     "output_type": "display_data"
    }
   ],
   "source": [
    "plt.hist(service_times);"
   ]
  },
  {
   "cell_type": "code",
   "execution_count": 10,
   "metadata": {
    "collapsed": true
   },
   "outputs": [],
   "source": [
    "params = {\n",
    "    'Arrival_distributions': [['Exponential', 15.0]],\n",
    "    'Service_distributions': [['Lognormal', -2.65, 0.83]],\n",
    "    'Transition_matrices': [[0.0]],\n",
    "    'Number_of_servers': [1]\n",
    "}"
   ]
  },
  {
   "cell_type": "code",
   "execution_count": 11,
   "metadata": {
    "collapsed": true
   },
   "outputs": [],
   "source": [
    "ciw.seed(2)\n",
    "N = ciw.create_network(params)\n",
    "Q = ciw.Simulation(N)\n",
    "Q.simulate_until_max_time(200)\n",
    "recs = Q.get_all_records()\n",
    "service_times = [r.service_time for r in recs]"
   ]
  },
  {
   "cell_type": "code",
   "execution_count": 12,
   "metadata": {
    "collapsed": false
   },
   "outputs": [
    {
     "data": {
      "image/png": "[encoded data removed]",
      "text/plain": [
       "<matplotlib.figure.Figure at 0x10ddfcef0>"
      ]
     },
     "metadata": {},
     "output_type": "display_data"
    }
   ],
   "source": [
    "plt.hist(service_times, bins=[i/40 for i in range(24)]);"
   ]
  },
  {
   "cell_type": "code",
   "execution_count": 13,
   "metadata": {
    "collapsed": true
   },
   "outputs": [],
   "source": [
    "params = {\n",
    "    'Arrival_distributions': [['Exponential', 15.0]],\n",
    "    'Service_distributions': [['Uniform', 0.0, 0.2]],\n",
    "    'Transition_matrices': [[0.0]],\n",
    "    'Number_of_servers': [1]\n",
    "}"
   ]
  },
  {
   "cell_type": "code",
   "execution_count": 14,
   "metadata": {
    "collapsed": true
   },
   "outputs": [],
   "source": [
    "ciw.seed(2)\n",
    "N = ciw.create_network(params)\n",
    "Q = ciw.Simulation(N)\n",
    "Q.simulate_until_max_time(200)\n",
    "recs = Q.get_all_records()\n",
    "service_times = [r.service_time for r in recs]"
   ]
  },
  {
   "cell_type": "code",
   "execution_count": 15,
   "metadata": {
    "collapsed": false
   },
   "outputs": [
    {
     "data": {
      "image/png": "[encoded data removed]",
      "text/plain": [
       "<matplotlib.figure.Figure at 0x10e1c6d30>"
      ]
     },
     "metadata": {},
     "output_type": "display_data"
    }
   ],
   "source": [
    "plt.hist(service_times);"
   ]
  },
  {
   "cell_type": "code",
   "execution_count": 16,
   "metadata": {
    "collapsed": true
   },
   "outputs": [],
   "source": [
    "params = {\n",
    "    'Arrival_distributions': [['Exponential', 15.0]],\n",
    "    'Service_distributions': [['Custom', [[0.4, 0.04], [0.3, 0.09], [0.2, 0.12], [0.1, 0.45]]]],\n",
    "    'Transition_matrices': [[0.0]],\n",
    "    'Number_of_servers': [1]\n",
    "}"
   ]
  },
  {
   "cell_type": "code",
   "execution_count": 17,
   "metadata": {
    "collapsed": true
   },
   "outputs": [],
   "source": [
    "ciw.seed(2)\n",
    "N = ciw.create_network(params)\n",
    "Q = ciw.Simulation(N)\n",
    "Q.simulate_until_max_time(200)\n",
    "recs = Q.get_all_records()\n",
    "service_times = [r.service_time for r in recs]"
   ]
  },
  {
   "cell_type": "code",
   "execution_count": 18,
   "metadata": {
    "collapsed": false
   },
   "outputs": [
    {
     "data": {
      "image/png": "[encoded data removed]",
      "text/plain": [
       "<matplotlib.figure.Figure at 0x10de96780>"
      ]
     },
     "metadata": {},
     "output_type": "display_data"
    }
   ],
   "source": [
    "plt.hist(service_times);"
   ]
  },
  {
   "cell_type": "code",
   "execution_count": 19,
   "metadata": {
    "collapsed": false
   },
   "outputs": [
    {
     "data": {
      "text/plain": [
       "Counter({0.040000000000000001: 737,\n",
       "         0.089999999999999997: 507,\n",
       "         0.12: 307,\n",
       "         0.45000000000000001: 194})"
      ]
     },
     "execution_count": 19,
     "metadata": {},
     "output_type": "execute_result"
    }
   ],
   "source": [
    "Counter(service_times)"
   ]
  },
  {
   "cell_type": "markdown",
   "metadata": {},
   "source": [
    "#  \n",
    "#  \n",
    "#  \n",
    "#  \n",
    "#  \n",
    "#  \n",
    "# Priority Queues"
   ]
  },
  {
   "cell_type": "code",
   "execution_count": 20,
   "metadata": {
    "collapsed": true
   },
   "outputs": [],
   "source": [
    "params = {\n",
    "    'Arrival_distributions': {'Class 0': [['Exponential', 5.0]],\n",
    "                              'Class 1': [['Exponential', 4.1]]},\n",
    "    'Service_distributions': {'Class 0': [['Exponential', 7.0]],\n",
    "                              'Class 1': [['Exponential', 2.1]]},\n",
    "    'Transition_matrices': {'Class 0': [[0.0]],\n",
    "                            'Class 1': [[0.0]]},\n",
    "    'Number_of_servers': [3]\n",
    "}"
   ]
  },
  {
   "cell_type": "code",
   "execution_count": 21,
   "metadata": {
    "collapsed": false
   },
   "outputs": [
    {
     "data": {
      "image/png": "[encoded data removed]",
      "text/plain": [
       "<matplotlib.figure.Figure at 0x10e354518>"
      ]
     },
     "metadata": {},
     "output_type": "display_data"
    }
   ],
   "source": [
    "ciw.seed(42)\n",
    "N = ciw.create_network(params)\n",
    "Q = ciw.Simulation(N)\n",
    "Q.simulate_until_max_time(100)\n",
    "recs = Q.get_all_records()\n",
    "waits0 = [r.waiting_time for r in recs if r.customer_class==0]\n",
    "waits1 = [r.waiting_time for r in recs if r.customer_class==1]\n",
    "plt.hist(waits0, alpha=0.3)\n",
    "plt.hist(waits1, alpha=0.3)\n",
    "plt.show()"
   ]
  },
  {
   "cell_type": "code",
   "execution_count": 22,
   "metadata": {
    "collapsed": true
   },
   "outputs": [],
   "source": [
    "params = {\n",
    "    'Arrival_distributions': {'Class 0': [['Exponential', 5.0]],\n",
    "                              'Class 1': [['Exponential', 4.1]]},\n",
    "    'Service_distributions': {'Class 0': [['Exponential', 7.0]],\n",
    "                              'Class 1': [['Exponential', 2.1]]},\n",
    "    'Transition_matrices': {'Class 0': [[0.0]],\n",
    "                            'Class 1': [[0.0]]},\n",
    "    'Number_of_servers': [3],\n",
    "    'Priority_classes': {'Class 0': 0,\n",
    "                         'Class 1': 1}\n",
    "}"
   ]
  },
  {
   "cell_type": "code",
   "execution_count": 23,
   "metadata": {
    "collapsed": false
   },
   "outputs": [
    {
     "data": {
      "image/png": "[encoded data removed]",
      "text/plain": [
       "<matplotlib.figure.Figure at 0x10cd28b70>"
      ]
     },
     "metadata": {},
     "output_type": "display_data"
    }
   ],
   "source": [
    "ciw.seed(42)\n",
    "N = ciw.create_network(params)\n",
    "Q = ciw.Simulation(N)\n",
    "Q.simulate_until_max_time(100)\n",
    "recs = Q.get_all_records()\n",
    "waits0 = [r.waiting_time for r in recs if r.customer_class==0]\n",
    "waits1 = [r.waiting_time for r in recs if r.customer_class==1]\n",
    "plt.hist(waits0, alpha=0.3)\n",
    "plt.hist(waits1, alpha=0.3)\n",
    "plt.show()"
   ]
  },
  {
   "cell_type": "markdown",
   "metadata": {},
   "source": [
    "#  \n",
    "#  \n",
    "#  \n",
    "#  \n",
    "#  \n",
    "#  \n",
    "# Baulking"
   ]
  },
  {
   "cell_type": "code",
   "execution_count": 24,
   "metadata": {
    "collapsed": true
   },
   "outputs": [],
   "source": [
    "def pycon_baulking_function(x):\n",
    "    if x <= 2:\n",
    "        return x / 20.0\n",
    "    if x <= 10:\n",
    "        return x / (x + 3)\n",
    "    return 1.0"
   ]
  },
  {
   "cell_type": "code",
   "execution_count": 25,
   "metadata": {
    "collapsed": true
   },
   "outputs": [],
   "source": [
    "params = {\n",
    "    'Arrival_distributions': [['Exponential', 10.0]],\n",
    "    'Service_distributions': [['Exponential', 12.0]],\n",
    "    'Number_of_servers': [1],\n",
    "    'Transition_matrices': [[0.0]]\n",
    "}\n",
    "\n",
    "\n",
    "\n",
    "params_baulk = {\n",
    "    'Arrival_distributions': [['Exponential', 10.0]],\n",
    "    'Service_distributions': [['Exponential', 12.0]],\n",
    "    'Number_of_servers': [1],\n",
    "    'Transition_matrices': [[0.0]],\n",
    "    'Baulking_functions': [pycon_baulking_function]\n",
    "}"
   ]
  },
  {
   "cell_type": "code",
   "execution_count": 26,
   "metadata": {
    "collapsed": false
   },
   "outputs": [
    {
     "name": "stdout",
     "output_type": "stream",
     "text": [
      "0.4338055231813675\n"
     ]
    }
   ],
   "source": [
    "average_waits = []\n",
    "for i in range(25):\n",
    "    ciw.seed(i)\n",
    "    N = ciw.create_network(params)\n",
    "    Q = ciw.Simulation(N)\n",
    "    Q.simulate_until_max_time(100)\n",
    "    recs = Q.get_all_records()\n",
    "    waits = [r.waiting_time for r in recs]\n",
    "    average_waits.append(sum(waits)/len(waits))\n",
    "print(sum(average_waits)/len(average_waits))"
   ]
  },
  {
   "cell_type": "code",
   "execution_count": 27,
   "metadata": {
    "collapsed": false
   },
   "outputs": [
    {
     "name": "stdout",
     "output_type": "stream",
     "text": [
      "0.10021909113183498\n"
     ]
    }
   ],
   "source": [
    "average_waits = []\n",
    "for i in range(25):\n",
    "    ciw.seed(i)\n",
    "    N = ciw.create_network(params_baulk)\n",
    "    Q = ciw.Simulation(N)\n",
    "    Q.simulate_until_max_time(100)\n",
    "    recs = Q.get_all_records()\n",
    "    waits = [r.waiting_time for r in recs]\n",
    "    average_waits.append(sum(waits)/len(waits))\n",
    "print(sum(average_waits)/len(average_waits))"
   ]
  },
  {
   "cell_type": "markdown",
   "metadata": {},
   "source": [
    "#  \n",
    "#  \n",
    "#  \n",
    "#  \n",
    "#  \n",
    "#  \n",
    "# Server Schedules"
   ]
  },
  {
   "cell_type": "code",
   "execution_count": 28,
   "metadata": {
    "collapsed": true
   },
   "outputs": [],
   "source": [
    "params = {\n",
    "    'Arrival_distributions': [['Exponential', 2.0]],\n",
    "    'Service_distributions': [['Exponential', 10.0]],\n",
    "    'Transition_matrices': [[0.0]],\n",
    "    'pyconuk_schedule': [[10, 1], [20, 0]],\n",
    "    'Number_of_servers': ['pyconuk_schedule']\n",
    "}"
   ]
  },
  {
   "cell_type": "code",
   "execution_count": 29,
   "metadata": {
    "collapsed": true
   },
   "outputs": [],
   "source": [
    "ciw.seed(1)\n",
    "N = ciw.create_network(params)\n",
    "Q = ciw.Simulation(N)\n",
    "Q.simulate_until_max_time(200)\n",
    "recs = Q.get_all_records()\n",
    "waits = [r.waiting_time for r in recs]"
   ]
  },
  {
   "cell_type": "code",
   "execution_count": 30,
   "metadata": {
    "collapsed": false
   },
   "outputs": [
    {
     "data": {
      "image/png": "[encoded data removed]",
      "text/plain": [
       "<matplotlib.figure.Figure at 0x10ddb40b8>"
      ]
     },
     "metadata": {},
     "output_type": "display_data"
    }
   ],
   "source": [
    "plt.hist(waits);"
   ]
  },
  {
   "cell_type": "markdown",
   "metadata": {},
   "source": [
    "#  \n",
    "#  \n",
    "#  \n",
    "#  \n",
    "#  \n",
    "#  \n",
    "# Deadlock Detection"
   ]
  },
  {
   "cell_type": "code",
   "execution_count": 31,
   "metadata": {
    "collapsed": true
   },
   "outputs": [],
   "source": [
    "params = {\n",
    "    'Arrival_distributions': [['Exponential', 4.0]],\n",
    "    'Service_distributions': [['Exponential', 5.0]],\n",
    "    'Transition_matrices': [[0.5]],\n",
    "    'Queue_capacities': [4],\n",
    "    'Number_of_servers': [1]\n",
    "}"
   ]
  },
  {
   "cell_type": "code",
   "execution_count": 32,
   "metadata": {
    "collapsed": true
   },
   "outputs": [],
   "source": [
    "ciw.seed(1)\n",
    "N = ciw.create_network(params)\n",
    "\n",
    "Q = ciw.Simulation(N, deadlock_detector='StateDigraph')\n",
    "\n",
    "Q.simulate_until_deadlock()"
   ]
  },
  {
   "cell_type": "code",
   "execution_count": 33,
   "metadata": {
    "collapsed": false
   },
   "outputs": [
    {
     "data": {
      "text/plain": [
       "1.3014081247580078"
      ]
     },
     "execution_count": 33,
     "metadata": {},
     "output_type": "execute_result"
    }
   ],
   "source": [
    "Q.times_to_deadlock[((0, 0),)]"
   ]
  },
  {
   "cell_type": "code",
   "execution_count": null,
   "metadata": {
    "collapsed": true
   },
   "outputs": [],
   "source": []
  },
  {
   "cell_type": "code",
   "execution_count": null,
   "metadata": {
    "collapsed": true
   },
   "outputs": [],
   "source": []
  }
 ],
 "metadata": {
  "kernelspec": {
   "display_name": "Python 3",
   "language": "python",
   "name": "python3"
  },
  "language_info": {
   "codemirror_mode": {
    "name": "ipython",
    "version": 3
   },
   "file_extension": ".py",
   "mimetype": "text/x-python",
   "name": "python",
   "nbconvert_exporter": "python",
   "pygments_lexer": "ipython3",
   "version": "3.5.1"
  }
 },
 "nbformat": 4,
 "nbformat_minor": 0
}
