{
 "cells": [
  {
   "cell_type": "markdown",
   "metadata": {},
   "source": [
    "# Two node example"
   ]
  },
  {
   "cell_type": "code",
   "execution_count": 1,
   "metadata": {},
   "outputs": [],
   "source": [
    "import ciw\n",
    "import pandas as pd"
   ]
  },
  {
   "cell_type": "code",
   "execution_count": 2,
   "metadata": {},
   "outputs": [],
   "source": [
    "N = ciw.create_network(\n",
    "    arrival_distributions=[ciw.dists.Exponential(4), ciw.dists.Deterministic(1)],\n",
    "    service_distributions=[ciw.dists.Uniform(0.1, 0.3), ciw.dists.Deterministic(1)],\n",
    "    number_of_servers=[1, 2],\n",
    "    queue_capacities=[float('inf'), 1],\n",
    "    routing=[[0.0, 0.4],\n",
    "             [0.0, 0.0]]\n",
    ")"
   ]
  },
  {
   "cell_type": "code",
   "execution_count": 3,
   "metadata": {},
   "outputs": [],
   "source": [
    "ciw.seed(0)\n",
    "Q = ciw.Simulation(N)"
   ]
  },
  {
   "cell_type": "code",
   "execution_count": 4,
   "metadata": {},
   "outputs": [],
   "source": [
    "Q.simulate_until_max_time(48)"
   ]
  },
  {
   "cell_type": "code",
   "execution_count": 5,
   "metadata": {},
   "outputs": [],
   "source": [
    "recs = Q.get_all_records()\n",
    "recs = pd.DataFrame(recs)"
   ]
  },
  {
   "cell_type": "code",
   "execution_count": 6,
   "metadata": {},
   "outputs": [
    {
     "data": {
      "text/html": [
       "<div>\n",
       "<style scoped>\n",
       "    .dataframe tbody tr th:only-of-type {\n",
       "        vertical-align: middle;\n",
       "    }\n",
       "\n",
       "    .dataframe tbody tr th {\n",
       "        vertical-align: top;\n",
       "    }\n",
       "\n",
       "    .dataframe thead th {\n",
       "        text-align: right;\n",
       "    }\n",
       "</style>\n",
       "<table border=\"1\" class=\"dataframe\">\n",
       "  <thead>\n",
       "    <tr style=\"text-align: right;\">\n",
       "      <th></th>\n",
       "      <th>id_number</th>\n",
       "      <th>customer_class</th>\n",
       "      <th>node</th>\n",
       "      <th>arrival_date</th>\n",
       "      <th>waiting_time</th>\n",
       "      <th>service_start_date</th>\n",
       "      <th>service_time</th>\n",
       "      <th>service_end_date</th>\n",
       "      <th>time_blocked</th>\n",
       "      <th>exit_date</th>\n",
       "      <th>destination</th>\n",
       "      <th>queue_size_at_arrival</th>\n",
       "      <th>queue_size_at_departure</th>\n",
       "    </tr>\n",
       "  </thead>\n",
       "  <tbody>\n",
       "    <tr>\n",
       "      <th>0</th>\n",
       "      <td>205</td>\n",
       "      <td>0</td>\n",
       "      <td>1</td>\n",
       "      <td>44.530449</td>\n",
       "      <td>1.744058</td>\n",
       "      <td>46.274508</td>\n",
       "      <td>0.216170</td>\n",
       "      <td>46.490677</td>\n",
       "      <td>0.297526</td>\n",
       "      <td>46.788204</td>\n",
       "      <td>2</td>\n",
       "      <td>5</td>\n",
       "      <td>5</td>\n",
       "    </tr>\n",
       "    <tr>\n",
       "      <th>1</th>\n",
       "      <td>208</td>\n",
       "      <td>0</td>\n",
       "      <td>1</td>\n",
       "      <td>45.055371</td>\n",
       "      <td>2.012368</td>\n",
       "      <td>47.067739</td>\n",
       "      <td>0.163178</td>\n",
       "      <td>47.230917</td>\n",
       "      <td>0.557287</td>\n",
       "      <td>47.788204</td>\n",
       "      <td>2</td>\n",
       "      <td>5</td>\n",
       "      <td>4</td>\n",
       "    </tr>\n",
       "    <tr>\n",
       "      <th>2</th>\n",
       "      <td>1</td>\n",
       "      <td>0</td>\n",
       "      <td>1</td>\n",
       "      <td>0.465152</td>\n",
       "      <td>0.000000</td>\n",
       "      <td>0.465152</td>\n",
       "      <td>0.251591</td>\n",
       "      <td>0.716743</td>\n",
       "      <td>0.000000</td>\n",
       "      <td>0.716743</td>\n",
       "      <td>-1</td>\n",
       "      <td>0</td>\n",
       "      <td>2</td>\n",
       "    </tr>\n",
       "    <tr>\n",
       "      <th>3</th>\n",
       "      <td>2</td>\n",
       "      <td>0</td>\n",
       "      <td>1</td>\n",
       "      <td>0.601580</td>\n",
       "      <td>0.115163</td>\n",
       "      <td>0.716743</td>\n",
       "      <td>0.256760</td>\n",
       "      <td>0.973502</td>\n",
       "      <td>0.000000</td>\n",
       "      <td>0.973502</td>\n",
       "      <td>-1</td>\n",
       "      <td>1</td>\n",
       "      <td>3</td>\n",
       "    </tr>\n",
       "    <tr>\n",
       "      <th>4</th>\n",
       "      <td>5</td>\n",
       "      <td>0</td>\n",
       "      <td>1</td>\n",
       "      <td>0.945834</td>\n",
       "      <td>0.560452</td>\n",
       "      <td>1.506286</td>\n",
       "      <td>0.281949</td>\n",
       "      <td>1.788235</td>\n",
       "      <td>0.000000</td>\n",
       "      <td>1.788235</td>\n",
       "      <td>-1</td>\n",
       "      <td>3</td>\n",
       "      <td>3</td>\n",
       "    </tr>\n",
       "    <tr>\n",
       "      <th>...</th>\n",
       "      <td>...</td>\n",
       "      <td>...</td>\n",
       "      <td>...</td>\n",
       "      <td>...</td>\n",
       "      <td>...</td>\n",
       "      <td>...</td>\n",
       "      <td>...</td>\n",
       "      <td>...</td>\n",
       "      <td>...</td>\n",
       "      <td>...</td>\n",
       "      <td>...</td>\n",
       "      <td>...</td>\n",
       "      <td>...</td>\n",
       "    </tr>\n",
       "    <tr>\n",
       "      <th>249</th>\n",
       "      <td>202</td>\n",
       "      <td>0</td>\n",
       "      <td>1</td>\n",
       "      <td>44.181362</td>\n",
       "      <td>0.818638</td>\n",
       "      <td>45.000000</td>\n",
       "      <td>0.291834</td>\n",
       "      <td>45.291834</td>\n",
       "      <td>0.496370</td>\n",
       "      <td>45.788204</td>\n",
       "      <td>2</td>\n",
       "      <td>2</td>\n",
       "      <td>5</td>\n",
       "    </tr>\n",
       "    <tr>\n",
       "      <th>250</th>\n",
       "      <td>202</td>\n",
       "      <td>0</td>\n",
       "      <td>2</td>\n",
       "      <td>45.788204</td>\n",
       "      <td>0.211796</td>\n",
       "      <td>46.000000</td>\n",
       "      <td>1.000000</td>\n",
       "      <td>47.000000</td>\n",
       "      <td>0.000000</td>\n",
       "      <td>47.000000</td>\n",
       "      <td>-1</td>\n",
       "      <td>2</td>\n",
       "      <td>2</td>\n",
       "    </tr>\n",
       "    <tr>\n",
       "      <th>251</th>\n",
       "      <td>207</td>\n",
       "      <td>0</td>\n",
       "      <td>1</td>\n",
       "      <td>45.020510</td>\n",
       "      <td>1.767694</td>\n",
       "      <td>46.788204</td>\n",
       "      <td>0.279535</td>\n",
       "      <td>47.067739</td>\n",
       "      <td>0.000000</td>\n",
       "      <td>47.067739</td>\n",
       "      <td>-1</td>\n",
       "      <td>4</td>\n",
       "      <td>4</td>\n",
       "    </tr>\n",
       "    <tr>\n",
       "      <th>252</th>\n",
       "      <td>204</td>\n",
       "      <td>0</td>\n",
       "      <td>1</td>\n",
       "      <td>44.298328</td>\n",
       "      <td>1.684550</td>\n",
       "      <td>45.982878</td>\n",
       "      <td>0.291630</td>\n",
       "      <td>46.274508</td>\n",
       "      <td>0.000000</td>\n",
       "      <td>46.274508</td>\n",
       "      <td>2</td>\n",
       "      <td>4</td>\n",
       "      <td>6</td>\n",
       "    </tr>\n",
       "    <tr>\n",
       "      <th>253</th>\n",
       "      <td>204</td>\n",
       "      <td>0</td>\n",
       "      <td>2</td>\n",
       "      <td>46.274508</td>\n",
       "      <td>0.513696</td>\n",
       "      <td>46.788204</td>\n",
       "      <td>1.000000</td>\n",
       "      <td>47.788204</td>\n",
       "      <td>0.000000</td>\n",
       "      <td>47.788204</td>\n",
       "      <td>-1</td>\n",
       "      <td>2</td>\n",
       "      <td>2</td>\n",
       "    </tr>\n",
       "  </tbody>\n",
       "</table>\n",
       "<p>254 rows × 13 columns</p>\n",
       "</div>"
      ],
      "text/plain": [
       "     id_number  customer_class  node  arrival_date  waiting_time  \\\n",
       "0          205               0     1     44.530449      1.744058   \n",
       "1          208               0     1     45.055371      2.012368   \n",
       "2            1               0     1      0.465152      0.000000   \n",
       "3            2               0     1      0.601580      0.115163   \n",
       "4            5               0     1      0.945834      0.560452   \n",
       "..         ...             ...   ...           ...           ...   \n",
       "249        202               0     1     44.181362      0.818638   \n",
       "250        202               0     2     45.788204      0.211796   \n",
       "251        207               0     1     45.020510      1.767694   \n",
       "252        204               0     1     44.298328      1.684550   \n",
       "253        204               0     2     46.274508      0.513696   \n",
       "\n",
       "     service_start_date  service_time  service_end_date  time_blocked  \\\n",
       "0             46.274508      0.216170         46.490677      0.297526   \n",
       "1             47.067739      0.163178         47.230917      0.557287   \n",
       "2              0.465152      0.251591          0.716743      0.000000   \n",
       "3              0.716743      0.256760          0.973502      0.000000   \n",
       "4              1.506286      0.281949          1.788235      0.000000   \n",
       "..                  ...           ...               ...           ...   \n",
       "249           45.000000      0.291834         45.291834      0.496370   \n",
       "250           46.000000      1.000000         47.000000      0.000000   \n",
       "251           46.788204      0.279535         47.067739      0.000000   \n",
       "252           45.982878      0.291630         46.274508      0.000000   \n",
       "253           46.788204      1.000000         47.788204      0.000000   \n",
       "\n",
       "     exit_date  destination  queue_size_at_arrival  queue_size_at_departure  \n",
       "0    46.788204            2                      5                        5  \n",
       "1    47.788204            2                      5                        4  \n",
       "2     0.716743           -1                      0                        2  \n",
       "3     0.973502           -1                      1                        3  \n",
       "4     1.788235           -1                      3                        3  \n",
       "..         ...          ...                    ...                      ...  \n",
       "249  45.788204            2                      2                        5  \n",
       "250  47.000000           -1                      2                        2  \n",
       "251  47.067739           -1                      4                        4  \n",
       "252  46.274508            2                      4                        6  \n",
       "253  47.788204           -1                      2                        2  \n",
       "\n",
       "[254 rows x 13 columns]"
      ]
     },
     "execution_count": 6,
     "metadata": {},
     "output_type": "execute_result"
    }
   ],
   "source": [
    "recs"
   ]
  },
  {
   "cell_type": "code",
   "execution_count": 7,
   "metadata": {},
   "outputs": [
    {
     "data": {
      "text/plain": [
       "node\n",
       "1    0.768454\n",
       "2    0.375585\n",
       "Name: waiting_time, dtype: float64"
      ]
     },
     "execution_count": 7,
     "metadata": {},
     "output_type": "execute_result"
    }
   ],
   "source": [
    "recs.groupby('node')['waiting_time'].mean()"
   ]
  },
  {
   "cell_type": "markdown",
   "metadata": {},
   "source": [
    "# Deadlock example"
   ]
  },
  {
   "cell_type": "code",
   "execution_count": 8,
   "metadata": {},
   "outputs": [],
   "source": [
    "import ciw"
   ]
  },
  {
   "cell_type": "code",
   "execution_count": 9,
   "metadata": {},
   "outputs": [],
   "source": [
    "N = ciw.create_network(\n",
    "    arrival_distributions=[ciw.dists.Exponential(4), ciw.dists.Exponential(4)],\n",
    "    service_distributions=[ciw.dists.Exponential(6), ciw.dists.Exponential(6)],\n",
    "    number_of_servers=[2, 2],\n",
    "    queue_capacities=[3, 3],\n",
    "    routing=[[0.4, 0.4], [0.4, 0.4]]\n",
    ")"
   ]
  },
  {
   "cell_type": "code",
   "execution_count": 10,
   "metadata": {},
   "outputs": [],
   "source": [
    "ciw.seed(0)\n",
    "Q = ciw.Simulation(N, deadlock_detector=ciw.deadlock.StateDigraph())"
   ]
  },
  {
   "cell_type": "code",
   "execution_count": 11,
   "metadata": {},
   "outputs": [],
   "source": [
    "Q.simulate_until_deadlock()"
   ]
  },
  {
   "cell_type": "code",
   "execution_count": 12,
   "metadata": {},
   "outputs": [
    {
     "data": {
      "text/plain": [
       "{None: 2.0290262051592847}"
      ]
     },
     "execution_count": 12,
     "metadata": {},
     "output_type": "execute_result"
    }
   ],
   "source": [
    "Q.times_to_deadlock"
   ]
  },
  {
   "cell_type": "code",
   "execution_count": null,
   "metadata": {},
   "outputs": [],
   "source": []
  }
 ],
 "metadata": {
  "kernelspec": {
   "display_name": "Python 3",
   "language": "python",
   "name": "python3"
  },
  "language_info": {
   "codemirror_mode": {
    "name": "ipython",
    "version": 3
   },
   "file_extension": ".py",
   "mimetype": "text/x-python",
   "name": "python",
   "nbconvert_exporter": "python",
   "pygments_lexer": "ipython3",
   "version": "3.7.3"
  }
 },
 "nbformat": 4,
 "nbformat_minor": 2
}
